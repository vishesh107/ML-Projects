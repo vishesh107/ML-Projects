{
 "cells": [
  {
   "cell_type": "code",
   "execution_count": 388,
   "id": "77b6e105",
   "metadata": {},
   "outputs": [],
   "source": [
    "import numpy as np"
   ]
  },
  {
   "cell_type": "code",
   "execution_count": 389,
   "id": "b6387341",
   "metadata": {},
   "outputs": [],
   "source": [
    "import pandas as pd\n",
    "import seaborn as sns\n",
    "import matplotlib.pyplot as plt\n",
    "%matplotlib inline"
   ]
  },
  {
   "cell_type": "code",
   "execution_count": 390,
   "id": "c5340bf0",
   "metadata": {},
   "outputs": [
    {
     "name": "stderr",
     "output_type": "stream",
     "text": [
      "C:\\Users\\sharm\\Anaconda3\\lib\\site-packages\\IPython\\core\\interactiveshell.py:3165: DtypeWarning: Columns (3) have mixed types.Specify dtype option on import or set low_memory=False.\n",
      "  has_raised = await self.run_ast_nodes(code_ast.body, cell_name,\n"
     ]
    }
   ],
   "source": [
    "books=pd.read_csv(\"Books.csv\")\n",
    "users=pd.read_csv(\"Users.csv\")\n",
    "ratings=pd.read_csv(\"Ratings.csv\")\n"
   ]
  },
  {
   "cell_type": "code",
   "execution_count": 391,
   "id": "fd38806e",
   "metadata": {},
   "outputs": [
    {
     "data": {
      "text/html": [
       "<div>\n",
       "<style scoped>\n",
       "    .dataframe tbody tr th:only-of-type {\n",
       "        vertical-align: middle;\n",
       "    }\n",
       "\n",
       "    .dataframe tbody tr th {\n",
       "        vertical-align: top;\n",
       "    }\n",
       "\n",
       "    .dataframe thead th {\n",
       "        text-align: right;\n",
       "    }\n",
       "</style>\n",
       "<table border=\"1\" class=\"dataframe\">\n",
       "  <thead>\n",
       "    <tr style=\"text-align: right;\">\n",
       "      <th></th>\n",
       "      <th>ISBN</th>\n",
       "      <th>Book-Title</th>\n",
       "      <th>Book-Author</th>\n",
       "      <th>Year-Of-Publication</th>\n",
       "      <th>Publisher</th>\n",
       "      <th>Image-URL-S</th>\n",
       "      <th>Image-URL-M</th>\n",
       "      <th>Image-URL-L</th>\n",
       "    </tr>\n",
       "  </thead>\n",
       "  <tbody>\n",
       "    <tr>\n",
       "      <th>0</th>\n",
       "      <td>0195153448</td>\n",
       "      <td>Classical Mythology</td>\n",
       "      <td>Mark P. O. Morford</td>\n",
       "      <td>2002</td>\n",
       "      <td>Oxford University Press</td>\n",
       "      <td>http://images.amazon.com/images/P/0195153448.0...</td>\n",
       "      <td>http://images.amazon.com/images/P/0195153448.0...</td>\n",
       "      <td>http://images.amazon.com/images/P/0195153448.0...</td>\n",
       "    </tr>\n",
       "  </tbody>\n",
       "</table>\n",
       "</div>"
      ],
      "text/plain": [
       "         ISBN           Book-Title         Book-Author Year-Of-Publication  \\\n",
       "0  0195153448  Classical Mythology  Mark P. O. Morford                2002   \n",
       "\n",
       "                 Publisher                                        Image-URL-S  \\\n",
       "0  Oxford University Press  http://images.amazon.com/images/P/0195153448.0...   \n",
       "\n",
       "                                         Image-URL-M  \\\n",
       "0  http://images.amazon.com/images/P/0195153448.0...   \n",
       "\n",
       "                                         Image-URL-L  \n",
       "0  http://images.amazon.com/images/P/0195153448.0...  "
      ]
     },
     "execution_count": 391,
     "metadata": {},
     "output_type": "execute_result"
    }
   ],
   "source": [
    "books.head(1)"
   ]
  },
  {
   "cell_type": "code",
   "execution_count": 392,
   "id": "9f72f5ea",
   "metadata": {},
   "outputs": [
    {
     "data": {
      "text/html": [
       "<div>\n",
       "<style scoped>\n",
       "    .dataframe tbody tr th:only-of-type {\n",
       "        vertical-align: middle;\n",
       "    }\n",
       "\n",
       "    .dataframe tbody tr th {\n",
       "        vertical-align: top;\n",
       "    }\n",
       "\n",
       "    .dataframe thead th {\n",
       "        text-align: right;\n",
       "    }\n",
       "</style>\n",
       "<table border=\"1\" class=\"dataframe\">\n",
       "  <thead>\n",
       "    <tr style=\"text-align: right;\">\n",
       "      <th></th>\n",
       "      <th>User-ID</th>\n",
       "      <th>ISBN</th>\n",
       "      <th>Book-Rating</th>\n",
       "    </tr>\n",
       "  </thead>\n",
       "  <tbody>\n",
       "    <tr>\n",
       "      <th>0</th>\n",
       "      <td>276725</td>\n",
       "      <td>034545104X</td>\n",
       "      <td>0</td>\n",
       "    </tr>\n",
       "  </tbody>\n",
       "</table>\n",
       "</div>"
      ],
      "text/plain": [
       "   User-ID        ISBN  Book-Rating\n",
       "0   276725  034545104X            0"
      ]
     },
     "execution_count": 392,
     "metadata": {},
     "output_type": "execute_result"
    }
   ],
   "source": [
    "ratings.head(1)"
   ]
  },
  {
   "cell_type": "code",
   "execution_count": 393,
   "id": "b3c23f8d",
   "metadata": {},
   "outputs": [
    {
     "data": {
      "text/html": [
       "<div>\n",
       "<style scoped>\n",
       "    .dataframe tbody tr th:only-of-type {\n",
       "        vertical-align: middle;\n",
       "    }\n",
       "\n",
       "    .dataframe tbody tr th {\n",
       "        vertical-align: top;\n",
       "    }\n",
       "\n",
       "    .dataframe thead th {\n",
       "        text-align: right;\n",
       "    }\n",
       "</style>\n",
       "<table border=\"1\" class=\"dataframe\">\n",
       "  <thead>\n",
       "    <tr style=\"text-align: right;\">\n",
       "      <th></th>\n",
       "      <th>User-ID</th>\n",
       "      <th>Location</th>\n",
       "      <th>Age</th>\n",
       "    </tr>\n",
       "  </thead>\n",
       "  <tbody>\n",
       "    <tr>\n",
       "      <th>0</th>\n",
       "      <td>1</td>\n",
       "      <td>nyc, new york, usa</td>\n",
       "      <td>NaN</td>\n",
       "    </tr>\n",
       "  </tbody>\n",
       "</table>\n",
       "</div>"
      ],
      "text/plain": [
       "   User-ID            Location  Age\n",
       "0        1  nyc, new york, usa  NaN"
      ]
     },
     "execution_count": 393,
     "metadata": {},
     "output_type": "execute_result"
    }
   ],
   "source": [
    "users.head(1)"
   ]
  },
  {
   "cell_type": "code",
   "execution_count": 394,
   "id": "729d5ae6",
   "metadata": {},
   "outputs": [
    {
     "data": {
      "text/plain": [
       "ISBN                   0\n",
       "Book-Title             0\n",
       "Book-Author            1\n",
       "Year-Of-Publication    0\n",
       "Publisher              2\n",
       "Image-URL-S            0\n",
       "Image-URL-M            0\n",
       "Image-URL-L            3\n",
       "dtype: int64"
      ]
     },
     "execution_count": 394,
     "metadata": {},
     "output_type": "execute_result"
    }
   ],
   "source": [
    "books.isnull().sum()"
   ]
  },
  {
   "cell_type": "code",
   "execution_count": 395,
   "id": "e169f925",
   "metadata": {},
   "outputs": [
    {
     "data": {
      "text/plain": [
       "User-ID        0\n",
       "ISBN           0\n",
       "Book-Rating    0\n",
       "dtype: int64"
      ]
     },
     "execution_count": 395,
     "metadata": {},
     "output_type": "execute_result"
    }
   ],
   "source": [
    "ratings.isnull().sum()"
   ]
  },
  {
   "cell_type": "code",
   "execution_count": 396,
   "id": "85f66728",
   "metadata": {},
   "outputs": [
    {
     "data": {
      "text/plain": [
       "User-ID          0\n",
       "Location         0\n",
       "Age         110762\n",
       "dtype: int64"
      ]
     },
     "execution_count": 396,
     "metadata": {},
     "output_type": "execute_result"
    }
   ],
   "source": [
    "users.isnull().sum()"
   ]
  },
  {
   "cell_type": "code",
   "execution_count": 397,
   "id": "7b068500",
   "metadata": {},
   "outputs": [
    {
     "data": {
      "text/plain": [
       "0"
      ]
     },
     "execution_count": 397,
     "metadata": {},
     "output_type": "execute_result"
    }
   ],
   "source": [
    "books.duplicated().sum()"
   ]
  },
  {
   "cell_type": "code",
   "execution_count": 398,
   "id": "5a241653",
   "metadata": {},
   "outputs": [
    {
     "data": {
      "text/plain": [
       "0"
      ]
     },
     "execution_count": 398,
     "metadata": {},
     "output_type": "execute_result"
    }
   ],
   "source": [
    "ratings.duplicated().sum()"
   ]
  },
  {
   "cell_type": "code",
   "execution_count": 399,
   "id": "468bca23",
   "metadata": {},
   "outputs": [
    {
     "data": {
      "text/plain": [
       "0"
      ]
     },
     "execution_count": 399,
     "metadata": {},
     "output_type": "execute_result"
    }
   ],
   "source": [
    "users.duplicated().sum()"
   ]
  },
  {
   "cell_type": "code",
   "execution_count": 400,
   "id": "971bcac0",
   "metadata": {},
   "outputs": [
    {
     "data": {
      "text/html": [
       "<div>\n",
       "<style scoped>\n",
       "    .dataframe tbody tr th:only-of-type {\n",
       "        vertical-align: middle;\n",
       "    }\n",
       "\n",
       "    .dataframe tbody tr th {\n",
       "        vertical-align: top;\n",
       "    }\n",
       "\n",
       "    .dataframe thead th {\n",
       "        text-align: right;\n",
       "    }\n",
       "</style>\n",
       "<table border=\"1\" class=\"dataframe\">\n",
       "  <thead>\n",
       "    <tr style=\"text-align: right;\">\n",
       "      <th></th>\n",
       "      <th>ISBN</th>\n",
       "      <th>Book-Title</th>\n",
       "      <th>Book-Author</th>\n",
       "      <th>Year-Of-Publication</th>\n",
       "      <th>Publisher</th>\n",
       "      <th>Image-URL-S</th>\n",
       "      <th>Image-URL-M</th>\n",
       "      <th>Image-URL-L</th>\n",
       "    </tr>\n",
       "  </thead>\n",
       "  <tbody>\n",
       "    <tr>\n",
       "      <th>0</th>\n",
       "      <td>0195153448</td>\n",
       "      <td>Classical Mythology</td>\n",
       "      <td>Mark P. O. Morford</td>\n",
       "      <td>2002</td>\n",
       "      <td>Oxford University Press</td>\n",
       "      <td>http://images.amazon.com/images/P/0195153448.0...</td>\n",
       "      <td>http://images.amazon.com/images/P/0195153448.0...</td>\n",
       "      <td>http://images.amazon.com/images/P/0195153448.0...</td>\n",
       "    </tr>\n",
       "  </tbody>\n",
       "</table>\n",
       "</div>"
      ],
      "text/plain": [
       "         ISBN           Book-Title         Book-Author Year-Of-Publication  \\\n",
       "0  0195153448  Classical Mythology  Mark P. O. Morford                2002   \n",
       "\n",
       "                 Publisher                                        Image-URL-S  \\\n",
       "0  Oxford University Press  http://images.amazon.com/images/P/0195153448.0...   \n",
       "\n",
       "                                         Image-URL-M  \\\n",
       "0  http://images.amazon.com/images/P/0195153448.0...   \n",
       "\n",
       "                                         Image-URL-L  \n",
       "0  http://images.amazon.com/images/P/0195153448.0...  "
      ]
     },
     "execution_count": 400,
     "metadata": {},
     "output_type": "execute_result"
    }
   ],
   "source": [
    "books.head(1)"
   ]
  },
  {
   "cell_type": "code",
   "execution_count": 401,
   "id": "8f262933",
   "metadata": {},
   "outputs": [
    {
     "data": {
      "text/plain": [
       "array([2002, 2001, 1991, 1999, 2000, 1993, 1996, 1988, 2004, 1998, 1994,\n",
       "       2003, 1997, 1983, 1979, 1995, 1982, 1985, 1992, 1986, 1978, 1980,\n",
       "       1952, 1987, 1990, 1981, 1989, 1984, 0, 1968, 1961, 1958, 1974,\n",
       "       1976, 1971, 1977, 1975, 1965, 1941, 1970, 1962, 1973, 1972, 1960,\n",
       "       1966, 1920, 1956, 1959, 1953, 1951, 1942, 1963, 1964, 1969, 1954,\n",
       "       1950, 1967, 2005, 1957, 1940, 1937, 1955, 1946, 1936, 1930, 2011,\n",
       "       1925, 1948, 1943, 1947, 1945, 1923, 2020, 1939, 1926, 1938, 2030,\n",
       "       1911, 1904, 1949, 1932, 1928, 1929, 1927, 1931, 1914, 2050, 1934,\n",
       "       1910, 1933, 1902, 1924, 1921, 1900, 2038, 2026, 1944, 1917, 1901,\n",
       "       2010, 1908, 1906, 1935, 1806, 2021, '2000', '1995', '1999', '2004',\n",
       "       '2003', '1990', '1994', '1986', '1989', '2002', '1981', '1993',\n",
       "       '1983', '1982', '1976', '1991', '1977', '1998', '1992', '1996',\n",
       "       '0', '1997', '2001', '1974', '1968', '1987', '1984', '1988',\n",
       "       '1963', '1956', '1970', '1985', '1978', '1973', '1980', '1979',\n",
       "       '1975', '1969', '1961', '1965', '1939', '1958', '1950', '1953',\n",
       "       '1966', '1971', '1959', '1972', '1955', '1957', '1945', '1960',\n",
       "       '1967', '1932', '1924', '1964', '2012', '1911', '1927', '1948',\n",
       "       '1962', '2006', '1952', '1940', '1951', '1931', '1954', '2005',\n",
       "       '1930', '1941', '1944', 'DK Publishing Inc', '1943', '1938',\n",
       "       '1900', '1942', '1923', '1920', '1933', 'Gallimard', '1909',\n",
       "       '1946', '2008', '1378', '2030', '1936', '1947', '2011', '2020',\n",
       "       '1919', '1949', '1922', '1897', '2024', '1376', '1926', '2037'],\n",
       "      dtype=object)"
      ]
     },
     "execution_count": 401,
     "metadata": {},
     "output_type": "execute_result"
    }
   ],
   "source": [
    "books[\"Year-Of-Publication\"].unique()"
   ]
  },
  {
   "cell_type": "code",
   "execution_count": 402,
   "id": "8fce1b90",
   "metadata": {},
   "outputs": [],
   "source": [
    "books=books[books[\"Year-Of-Publication\"]!='DK Publishing Inc']\n",
    "books=books[books[\"Year-Of-Publication\"]!='Gallimard']\n"
   ]
  },
  {
   "cell_type": "code",
   "execution_count": 403,
   "id": "ef113c7f",
   "metadata": {},
   "outputs": [],
   "source": [
    "books[\"Year-Of-Publication\"]=books[\"Year-Of-Publication\"].astype('int')"
   ]
  },
  {
   "cell_type": "code",
   "execution_count": 404,
   "id": "75f03da4",
   "metadata": {},
   "outputs": [],
   "source": [
    "books=books[books[\"Year-Of-Publication\"]!=0]"
   ]
  },
  {
   "cell_type": "code",
   "execution_count": 405,
   "id": "44ec03c9",
   "metadata": {},
   "outputs": [
    {
     "data": {
      "text/plain": [
       "array([2002, 2001, 1991, 1999, 2000, 1993, 1996, 1988, 2004, 1998, 1994,\n",
       "       2003, 1997, 1983, 1979, 1995, 1982, 1985, 1992, 1986, 1978, 1980,\n",
       "       1952, 1987, 1990, 1981, 1989, 1984, 1968, 1961, 1958, 1974, 1976,\n",
       "       1971, 1977, 1975, 1965, 1941, 1970, 1962, 1973, 1972, 1960, 1966,\n",
       "       1920, 1956, 1959, 1953, 1951, 1942, 1963, 1964, 1969, 1954, 1950,\n",
       "       1967, 2005, 1957, 1940, 1937, 1955, 1946, 1936, 1930, 2011, 1925,\n",
       "       1948, 1943, 1947, 1945, 1923, 2020, 1939, 1926, 1938, 2030, 1911,\n",
       "       1904, 1949, 1932, 1928, 1929, 1927, 1931, 1914, 2050, 1934, 1910,\n",
       "       1933, 1902, 1924, 1921, 1900, 2038, 2026, 1944, 1917, 1901, 2010,\n",
       "       1908, 1906, 1935, 1806, 2021, 2012, 2006, 1909, 2008, 1378, 1919,\n",
       "       1922, 1897, 2024, 1376, 2037])"
      ]
     },
     "execution_count": 405,
     "metadata": {},
     "output_type": "execute_result"
    }
   ],
   "source": [
    "books[\"Year-Of-Publication\"].unique()"
   ]
  },
  {
   "cell_type": "code",
   "execution_count": 406,
   "id": "38e0762c",
   "metadata": {},
   "outputs": [
    {
     "name": "stdout",
     "output_type": "stream",
     "text": [
      "<class 'pandas.core.frame.DataFrame'>\n",
      "RangeIndex: 1149780 entries, 0 to 1149779\n",
      "Data columns (total 3 columns):\n",
      " #   Column       Non-Null Count    Dtype \n",
      "---  ------       --------------    ----- \n",
      " 0   User-ID      1149780 non-null  int64 \n",
      " 1   ISBN         1149780 non-null  object\n",
      " 2   Book-Rating  1149780 non-null  int64 \n",
      "dtypes: int64(2), object(1)\n",
      "memory usage: 26.3+ MB\n"
     ]
    }
   ],
   "source": [
    "ratings.info()"
   ]
  },
  {
   "cell_type": "code",
   "execution_count": 407,
   "id": "e7ba69a9",
   "metadata": {},
   "outputs": [],
   "source": [
    "users[\"city\"]=users[\"Location\"].apply(lambda x:x.split(\",\")[0])\n",
    "\n"
   ]
  },
  {
   "cell_type": "code",
   "execution_count": 408,
   "id": "c4db8195",
   "metadata": {},
   "outputs": [],
   "source": [
    "users[\"country\"]=users[\"Location\"].apply(lambda x:x.split(\",\")[-1])"
   ]
  },
  {
   "cell_type": "code",
   "execution_count": 409,
   "id": "1bd9621f",
   "metadata": {},
   "outputs": [],
   "source": [
    "users[\"state\"]=users[\"Location\"].apply(lambda x:x.split(\",\")[-2:][0])"
   ]
  },
  {
   "cell_type": "code",
   "execution_count": 410,
   "id": "997b9722",
   "metadata": {},
   "outputs": [],
   "source": [
    "users.drop([\"Location\"],axis=1,inplace=True)"
   ]
  },
  {
   "cell_type": "code",
   "execution_count": 411,
   "id": "5a379370",
   "metadata": {},
   "outputs": [],
   "source": [
    "users.drop([\"Age\"],axis=1,inplace=True)"
   ]
  },
  {
   "cell_type": "code",
   "execution_count": 412,
   "id": "d9bc77c4",
   "metadata": {},
   "outputs": [
    {
     "data": {
      "text/html": [
       "<div>\n",
       "<style scoped>\n",
       "    .dataframe tbody tr th:only-of-type {\n",
       "        vertical-align: middle;\n",
       "    }\n",
       "\n",
       "    .dataframe tbody tr th {\n",
       "        vertical-align: top;\n",
       "    }\n",
       "\n",
       "    .dataframe thead th {\n",
       "        text-align: right;\n",
       "    }\n",
       "</style>\n",
       "<table border=\"1\" class=\"dataframe\">\n",
       "  <thead>\n",
       "    <tr style=\"text-align: right;\">\n",
       "      <th></th>\n",
       "      <th>User-ID</th>\n",
       "      <th>city</th>\n",
       "      <th>country</th>\n",
       "      <th>state</th>\n",
       "    </tr>\n",
       "  </thead>\n",
       "  <tbody>\n",
       "    <tr>\n",
       "      <th>0</th>\n",
       "      <td>1</td>\n",
       "      <td>nyc</td>\n",
       "      <td>usa</td>\n",
       "      <td>new york</td>\n",
       "    </tr>\n",
       "    <tr>\n",
       "      <th>1</th>\n",
       "      <td>2</td>\n",
       "      <td>stockton</td>\n",
       "      <td>usa</td>\n",
       "      <td>california</td>\n",
       "    </tr>\n",
       "    <tr>\n",
       "      <th>2</th>\n",
       "      <td>3</td>\n",
       "      <td>moscow</td>\n",
       "      <td>russia</td>\n",
       "      <td>yukon territory</td>\n",
       "    </tr>\n",
       "    <tr>\n",
       "      <th>3</th>\n",
       "      <td>4</td>\n",
       "      <td>porto</td>\n",
       "      <td>portugal</td>\n",
       "      <td>v.n.gaia</td>\n",
       "    </tr>\n",
       "    <tr>\n",
       "      <th>4</th>\n",
       "      <td>5</td>\n",
       "      <td>farnborough</td>\n",
       "      <td>united kingdom</td>\n",
       "      <td>hants</td>\n",
       "    </tr>\n",
       "  </tbody>\n",
       "</table>\n",
       "</div>"
      ],
      "text/plain": [
       "   User-ID         city          country             state\n",
       "0        1          nyc              usa          new york\n",
       "1        2     stockton              usa        california\n",
       "2        3       moscow           russia   yukon territory\n",
       "3        4        porto         portugal          v.n.gaia\n",
       "4        5  farnborough   united kingdom             hants"
      ]
     },
     "execution_count": 412,
     "metadata": {},
     "output_type": "execute_result"
    }
   ],
   "source": [
    "users.head()"
   ]
  },
  {
   "cell_type": "code",
   "execution_count": 413,
   "id": "a9b9e9c9",
   "metadata": {},
   "outputs": [
    {
     "data": {
      "text/html": [
       "<div>\n",
       "<style scoped>\n",
       "    .dataframe tbody tr th:only-of-type {\n",
       "        vertical-align: middle;\n",
       "    }\n",
       "\n",
       "    .dataframe tbody tr th {\n",
       "        vertical-align: top;\n",
       "    }\n",
       "\n",
       "    .dataframe thead th {\n",
       "        text-align: right;\n",
       "    }\n",
       "</style>\n",
       "<table border=\"1\" class=\"dataframe\">\n",
       "  <thead>\n",
       "    <tr style=\"text-align: right;\">\n",
       "      <th></th>\n",
       "      <th>User-ID</th>\n",
       "      <th>ISBN</th>\n",
       "      <th>Book-Rating</th>\n",
       "    </tr>\n",
       "  </thead>\n",
       "  <tbody>\n",
       "    <tr>\n",
       "      <th>0</th>\n",
       "      <td>276725</td>\n",
       "      <td>034545104X</td>\n",
       "      <td>0</td>\n",
       "    </tr>\n",
       "    <tr>\n",
       "      <th>1</th>\n",
       "      <td>276726</td>\n",
       "      <td>0155061224</td>\n",
       "      <td>5</td>\n",
       "    </tr>\n",
       "    <tr>\n",
       "      <th>2</th>\n",
       "      <td>276727</td>\n",
       "      <td>0446520802</td>\n",
       "      <td>0</td>\n",
       "    </tr>\n",
       "    <tr>\n",
       "      <th>3</th>\n",
       "      <td>276729</td>\n",
       "      <td>052165615X</td>\n",
       "      <td>3</td>\n",
       "    </tr>\n",
       "    <tr>\n",
       "      <th>4</th>\n",
       "      <td>276729</td>\n",
       "      <td>0521795028</td>\n",
       "      <td>6</td>\n",
       "    </tr>\n",
       "  </tbody>\n",
       "</table>\n",
       "</div>"
      ],
      "text/plain": [
       "   User-ID        ISBN  Book-Rating\n",
       "0   276725  034545104X            0\n",
       "1   276726  0155061224            5\n",
       "2   276727  0446520802            0\n",
       "3   276729  052165615X            3\n",
       "4   276729  0521795028            6"
      ]
     },
     "execution_count": 413,
     "metadata": {},
     "output_type": "execute_result"
    }
   ],
   "source": [
    "ratings.head()"
   ]
  },
  {
   "cell_type": "markdown",
   "id": "c3e1b12e",
   "metadata": {},
   "source": [
    "# popularity based recommender system:"
   ]
  },
  {
   "cell_type": "code",
   "execution_count": 414,
   "id": "745c7883",
   "metadata": {},
   "outputs": [],
   "source": [
    "ratings_with_name=ratings.merge(books,on='ISBN')"
   ]
  },
  {
   "cell_type": "code",
   "execution_count": 415,
   "id": "96227e85",
   "metadata": {},
   "outputs": [
    {
     "data": {
      "text/html": [
       "<div>\n",
       "<style scoped>\n",
       "    .dataframe tbody tr th:only-of-type {\n",
       "        vertical-align: middle;\n",
       "    }\n",
       "\n",
       "    .dataframe tbody tr th {\n",
       "        vertical-align: top;\n",
       "    }\n",
       "\n",
       "    .dataframe thead th {\n",
       "        text-align: right;\n",
       "    }\n",
       "</style>\n",
       "<table border=\"1\" class=\"dataframe\">\n",
       "  <thead>\n",
       "    <tr style=\"text-align: right;\">\n",
       "      <th></th>\n",
       "      <th>Book-Title</th>\n",
       "      <th>num-ratings</th>\n",
       "    </tr>\n",
       "  </thead>\n",
       "  <tbody>\n",
       "    <tr>\n",
       "      <th>0</th>\n",
       "      <td>A Light in the Storm: The Civil War Diary of ...</td>\n",
       "      <td>4</td>\n",
       "    </tr>\n",
       "    <tr>\n",
       "      <th>1</th>\n",
       "      <td>Always Have Popsicles</td>\n",
       "      <td>1</td>\n",
       "    </tr>\n",
       "    <tr>\n",
       "      <th>2</th>\n",
       "      <td>Apple Magic (The Collector's series)</td>\n",
       "      <td>1</td>\n",
       "    </tr>\n",
       "    <tr>\n",
       "      <th>3</th>\n",
       "      <td>Ask Lily (Young Women of Faith: Lily Series, ...</td>\n",
       "      <td>1</td>\n",
       "    </tr>\n",
       "    <tr>\n",
       "      <th>4</th>\n",
       "      <td>Beyond IBM: Leadership Marketing and Finance ...</td>\n",
       "      <td>1</td>\n",
       "    </tr>\n",
       "    <tr>\n",
       "      <th>...</th>\n",
       "      <td>...</td>\n",
       "      <td>...</td>\n",
       "    </tr>\n",
       "    <tr>\n",
       "      <th>237457</th>\n",
       "      <td>Ã?Â?lpiraten.</td>\n",
       "      <td>2</td>\n",
       "    </tr>\n",
       "    <tr>\n",
       "      <th>237458</th>\n",
       "      <td>Ã?Â?rger mit Produkt X. Roman.</td>\n",
       "      <td>4</td>\n",
       "    </tr>\n",
       "    <tr>\n",
       "      <th>237459</th>\n",
       "      <td>Ã?Â?sterlich leben.</td>\n",
       "      <td>1</td>\n",
       "    </tr>\n",
       "    <tr>\n",
       "      <th>237460</th>\n",
       "      <td>Ã?Â?stlich der Berge.</td>\n",
       "      <td>3</td>\n",
       "    </tr>\n",
       "    <tr>\n",
       "      <th>237461</th>\n",
       "      <td>Ã?Â?thique en toc</td>\n",
       "      <td>2</td>\n",
       "    </tr>\n",
       "  </tbody>\n",
       "</table>\n",
       "<p>237462 rows × 2 columns</p>\n",
       "</div>"
      ],
      "text/plain": [
       "                                               Book-Title  num-ratings\n",
       "0        A Light in the Storm: The Civil War Diary of ...            4\n",
       "1                                   Always Have Popsicles            1\n",
       "2                    Apple Magic (The Collector's series)            1\n",
       "3        Ask Lily (Young Women of Faith: Lily Series, ...            1\n",
       "4        Beyond IBM: Leadership Marketing and Finance ...            1\n",
       "...                                                   ...          ...\n",
       "237457                                      Ã?Â?lpiraten.            2\n",
       "237458                     Ã?Â?rger mit Produkt X. Roman.            4\n",
       "237459                                Ã?Â?sterlich leben.            1\n",
       "237460                              Ã?Â?stlich der Berge.            3\n",
       "237461                                  Ã?Â?thique en toc            2\n",
       "\n",
       "[237462 rows x 2 columns]"
      ]
     },
     "execution_count": 415,
     "metadata": {},
     "output_type": "execute_result"
    }
   ],
   "source": [
    "num_ratings_df=ratings_with_name.groupby(\"Book-Title\").count()['Book-Rating'].reset_index()\n",
    "num_ratings_df.rename(columns={'Book-Rating':'num-ratings'},inplace=True)\n",
    "num_ratings_df"
   ]
  },
  {
   "cell_type": "code",
   "execution_count": 416,
   "id": "e7f44e48",
   "metadata": {},
   "outputs": [
    {
     "data": {
      "text/html": [
       "<div>\n",
       "<style scoped>\n",
       "    .dataframe tbody tr th:only-of-type {\n",
       "        vertical-align: middle;\n",
       "    }\n",
       "\n",
       "    .dataframe tbody tr th {\n",
       "        vertical-align: top;\n",
       "    }\n",
       "\n",
       "    .dataframe thead th {\n",
       "        text-align: right;\n",
       "    }\n",
       "</style>\n",
       "<table border=\"1\" class=\"dataframe\">\n",
       "  <thead>\n",
       "    <tr style=\"text-align: right;\">\n",
       "      <th></th>\n",
       "      <th>Book-Title</th>\n",
       "      <th>avg-ratings</th>\n",
       "    </tr>\n",
       "  </thead>\n",
       "  <tbody>\n",
       "    <tr>\n",
       "      <th>0</th>\n",
       "      <td>A Light in the Storm: The Civil War Diary of ...</td>\n",
       "      <td>2.250000</td>\n",
       "    </tr>\n",
       "    <tr>\n",
       "      <th>1</th>\n",
       "      <td>Always Have Popsicles</td>\n",
       "      <td>0.000000</td>\n",
       "    </tr>\n",
       "    <tr>\n",
       "      <th>2</th>\n",
       "      <td>Apple Magic (The Collector's series)</td>\n",
       "      <td>0.000000</td>\n",
       "    </tr>\n",
       "    <tr>\n",
       "      <th>3</th>\n",
       "      <td>Ask Lily (Young Women of Faith: Lily Series, ...</td>\n",
       "      <td>8.000000</td>\n",
       "    </tr>\n",
       "    <tr>\n",
       "      <th>4</th>\n",
       "      <td>Beyond IBM: Leadership Marketing and Finance ...</td>\n",
       "      <td>0.000000</td>\n",
       "    </tr>\n",
       "    <tr>\n",
       "      <th>...</th>\n",
       "      <td>...</td>\n",
       "      <td>...</td>\n",
       "    </tr>\n",
       "    <tr>\n",
       "      <th>237457</th>\n",
       "      <td>Ã?Â?lpiraten.</td>\n",
       "      <td>0.000000</td>\n",
       "    </tr>\n",
       "    <tr>\n",
       "      <th>237458</th>\n",
       "      <td>Ã?Â?rger mit Produkt X. Roman.</td>\n",
       "      <td>5.250000</td>\n",
       "    </tr>\n",
       "    <tr>\n",
       "      <th>237459</th>\n",
       "      <td>Ã?Â?sterlich leben.</td>\n",
       "      <td>7.000000</td>\n",
       "    </tr>\n",
       "    <tr>\n",
       "      <th>237460</th>\n",
       "      <td>Ã?Â?stlich der Berge.</td>\n",
       "      <td>2.666667</td>\n",
       "    </tr>\n",
       "    <tr>\n",
       "      <th>237461</th>\n",
       "      <td>Ã?Â?thique en toc</td>\n",
       "      <td>4.000000</td>\n",
       "    </tr>\n",
       "  </tbody>\n",
       "</table>\n",
       "<p>237462 rows × 2 columns</p>\n",
       "</div>"
      ],
      "text/plain": [
       "                                               Book-Title  avg-ratings\n",
       "0        A Light in the Storm: The Civil War Diary of ...     2.250000\n",
       "1                                   Always Have Popsicles     0.000000\n",
       "2                    Apple Magic (The Collector's series)     0.000000\n",
       "3        Ask Lily (Young Women of Faith: Lily Series, ...     8.000000\n",
       "4        Beyond IBM: Leadership Marketing and Finance ...     0.000000\n",
       "...                                                   ...          ...\n",
       "237457                                      Ã?Â?lpiraten.     0.000000\n",
       "237458                     Ã?Â?rger mit Produkt X. Roman.     5.250000\n",
       "237459                                Ã?Â?sterlich leben.     7.000000\n",
       "237460                              Ã?Â?stlich der Berge.     2.666667\n",
       "237461                                  Ã?Â?thique en toc     4.000000\n",
       "\n",
       "[237462 rows x 2 columns]"
      ]
     },
     "execution_count": 416,
     "metadata": {},
     "output_type": "execute_result"
    }
   ],
   "source": [
    "avg_ratings_df=ratings_with_name.groupby(\"Book-Title\").mean()['Book-Rating'].reset_index()\n",
    "avg_ratings_df.rename(columns={'Book-Rating':'avg-ratings'},inplace=True)\n",
    "avg_ratings_df"
   ]
  },
  {
   "cell_type": "code",
   "execution_count": 417,
   "id": "3b51cec0",
   "metadata": {},
   "outputs": [
    {
     "data": {
      "text/html": [
       "<div>\n",
       "<style scoped>\n",
       "    .dataframe tbody tr th:only-of-type {\n",
       "        vertical-align: middle;\n",
       "    }\n",
       "\n",
       "    .dataframe tbody tr th {\n",
       "        vertical-align: top;\n",
       "    }\n",
       "\n",
       "    .dataframe thead th {\n",
       "        text-align: right;\n",
       "    }\n",
       "</style>\n",
       "<table border=\"1\" class=\"dataframe\">\n",
       "  <thead>\n",
       "    <tr style=\"text-align: right;\">\n",
       "      <th></th>\n",
       "      <th>Book-Title</th>\n",
       "      <th>num-ratings</th>\n",
       "      <th>avg-ratings</th>\n",
       "    </tr>\n",
       "  </thead>\n",
       "  <tbody>\n",
       "    <tr>\n",
       "      <th>0</th>\n",
       "      <td>A Light in the Storm: The Civil War Diary of ...</td>\n",
       "      <td>4</td>\n",
       "      <td>2.250000</td>\n",
       "    </tr>\n",
       "    <tr>\n",
       "      <th>1</th>\n",
       "      <td>Always Have Popsicles</td>\n",
       "      <td>1</td>\n",
       "      <td>0.000000</td>\n",
       "    </tr>\n",
       "    <tr>\n",
       "      <th>2</th>\n",
       "      <td>Apple Magic (The Collector's series)</td>\n",
       "      <td>1</td>\n",
       "      <td>0.000000</td>\n",
       "    </tr>\n",
       "    <tr>\n",
       "      <th>3</th>\n",
       "      <td>Ask Lily (Young Women of Faith: Lily Series, ...</td>\n",
       "      <td>1</td>\n",
       "      <td>8.000000</td>\n",
       "    </tr>\n",
       "    <tr>\n",
       "      <th>4</th>\n",
       "      <td>Beyond IBM: Leadership Marketing and Finance ...</td>\n",
       "      <td>1</td>\n",
       "      <td>0.000000</td>\n",
       "    </tr>\n",
       "    <tr>\n",
       "      <th>...</th>\n",
       "      <td>...</td>\n",
       "      <td>...</td>\n",
       "      <td>...</td>\n",
       "    </tr>\n",
       "    <tr>\n",
       "      <th>237457</th>\n",
       "      <td>Ã?Â?lpiraten.</td>\n",
       "      <td>2</td>\n",
       "      <td>0.000000</td>\n",
       "    </tr>\n",
       "    <tr>\n",
       "      <th>237458</th>\n",
       "      <td>Ã?Â?rger mit Produkt X. Roman.</td>\n",
       "      <td>4</td>\n",
       "      <td>5.250000</td>\n",
       "    </tr>\n",
       "    <tr>\n",
       "      <th>237459</th>\n",
       "      <td>Ã?Â?sterlich leben.</td>\n",
       "      <td>1</td>\n",
       "      <td>7.000000</td>\n",
       "    </tr>\n",
       "    <tr>\n",
       "      <th>237460</th>\n",
       "      <td>Ã?Â?stlich der Berge.</td>\n",
       "      <td>3</td>\n",
       "      <td>2.666667</td>\n",
       "    </tr>\n",
       "    <tr>\n",
       "      <th>237461</th>\n",
       "      <td>Ã?Â?thique en toc</td>\n",
       "      <td>2</td>\n",
       "      <td>4.000000</td>\n",
       "    </tr>\n",
       "  </tbody>\n",
       "</table>\n",
       "<p>237462 rows × 3 columns</p>\n",
       "</div>"
      ],
      "text/plain": [
       "                                               Book-Title  num-ratings  \\\n",
       "0        A Light in the Storm: The Civil War Diary of ...            4   \n",
       "1                                   Always Have Popsicles            1   \n",
       "2                    Apple Magic (The Collector's series)            1   \n",
       "3        Ask Lily (Young Women of Faith: Lily Series, ...            1   \n",
       "4        Beyond IBM: Leadership Marketing and Finance ...            1   \n",
       "...                                                   ...          ...   \n",
       "237457                                      Ã?Â?lpiraten.            2   \n",
       "237458                     Ã?Â?rger mit Produkt X. Roman.            4   \n",
       "237459                                Ã?Â?sterlich leben.            1   \n",
       "237460                              Ã?Â?stlich der Berge.            3   \n",
       "237461                                  Ã?Â?thique en toc            2   \n",
       "\n",
       "        avg-ratings  \n",
       "0          2.250000  \n",
       "1          0.000000  \n",
       "2          0.000000  \n",
       "3          8.000000  \n",
       "4          0.000000  \n",
       "...             ...  \n",
       "237457     0.000000  \n",
       "237458     5.250000  \n",
       "237459     7.000000  \n",
       "237460     2.666667  \n",
       "237461     4.000000  \n",
       "\n",
       "[237462 rows x 3 columns]"
      ]
     },
     "execution_count": 417,
     "metadata": {},
     "output_type": "execute_result"
    }
   ],
   "source": [
    "popular_df=num_ratings_df.merge(avg_ratings_df,on='Book-Title')\n",
    "popular_df"
   ]
  },
  {
   "cell_type": "code",
   "execution_count": 418,
   "id": "53e2d62d",
   "metadata": {},
   "outputs": [],
   "source": [
    "popular_df=popular_df[popular_df[\"num-ratings\"]>=250].sort_values('avg-ratings',ascending=False).head(50)"
   ]
  },
  {
   "cell_type": "code",
   "execution_count": 419,
   "id": "1cbe4f52",
   "metadata": {},
   "outputs": [],
   "source": [
    "popular_df=popular_df.merge(books,on='Book-Title').drop_duplicates('Book-Title')[[\"Book-Title\",\"Book-Author\",\"num-ratings\",\"avg-ratings\",\"Image-URL-M\"]]"
   ]
  },
  {
   "cell_type": "code",
   "execution_count": 420,
   "id": "fb163759",
   "metadata": {},
   "outputs": [
    {
     "data": {
      "text/html": [
       "<div>\n",
       "<style scoped>\n",
       "    .dataframe tbody tr th:only-of-type {\n",
       "        vertical-align: middle;\n",
       "    }\n",
       "\n",
       "    .dataframe tbody tr th {\n",
       "        vertical-align: top;\n",
       "    }\n",
       "\n",
       "    .dataframe thead th {\n",
       "        text-align: right;\n",
       "    }\n",
       "</style>\n",
       "<table border=\"1\" class=\"dataframe\">\n",
       "  <thead>\n",
       "    <tr style=\"text-align: right;\">\n",
       "      <th></th>\n",
       "      <th>Book-Title</th>\n",
       "      <th>Book-Author</th>\n",
       "      <th>num-ratings</th>\n",
       "      <th>avg-ratings</th>\n",
       "      <th>Image-URL-M</th>\n",
       "    </tr>\n",
       "  </thead>\n",
       "  <tbody>\n",
       "    <tr>\n",
       "      <th>0</th>\n",
       "      <td>Harry Potter and the Prisoner of Azkaban (Book 3)</td>\n",
       "      <td>J. K. Rowling</td>\n",
       "      <td>428</td>\n",
       "      <td>5.852804</td>\n",
       "      <td>http://images.amazon.com/images/P/0439136350.0...</td>\n",
       "    </tr>\n",
       "    <tr>\n",
       "      <th>3</th>\n",
       "      <td>Harry Potter and the Goblet of Fire (Book 4)</td>\n",
       "      <td>J. K. Rowling</td>\n",
       "      <td>387</td>\n",
       "      <td>5.824289</td>\n",
       "      <td>http://images.amazon.com/images/P/0439139597.0...</td>\n",
       "    </tr>\n",
       "    <tr>\n",
       "      <th>5</th>\n",
       "      <td>Harry Potter and the Sorcerer's Stone (Book 1)</td>\n",
       "      <td>J. K. Rowling</td>\n",
       "      <td>278</td>\n",
       "      <td>5.737410</td>\n",
       "      <td>http://images.amazon.com/images/P/0590353403.0...</td>\n",
       "    </tr>\n",
       "    <tr>\n",
       "      <th>9</th>\n",
       "      <td>Harry Potter and the Order of the Phoenix (Boo...</td>\n",
       "      <td>J. K. Rowling</td>\n",
       "      <td>347</td>\n",
       "      <td>5.501441</td>\n",
       "      <td>http://images.amazon.com/images/P/043935806X.0...</td>\n",
       "    </tr>\n",
       "    <tr>\n",
       "      <th>13</th>\n",
       "      <td>Harry Potter and the Chamber of Secrets (Book 2)</td>\n",
       "      <td>J. K. Rowling</td>\n",
       "      <td>556</td>\n",
       "      <td>5.183453</td>\n",
       "      <td>http://images.amazon.com/images/P/0439064872.0...</td>\n",
       "    </tr>\n",
       "  </tbody>\n",
       "</table>\n",
       "</div>"
      ],
      "text/plain": [
       "                                           Book-Title    Book-Author  \\\n",
       "0   Harry Potter and the Prisoner of Azkaban (Book 3)  J. K. Rowling   \n",
       "3        Harry Potter and the Goblet of Fire (Book 4)  J. K. Rowling   \n",
       "5      Harry Potter and the Sorcerer's Stone (Book 1)  J. K. Rowling   \n",
       "9   Harry Potter and the Order of the Phoenix (Boo...  J. K. Rowling   \n",
       "13   Harry Potter and the Chamber of Secrets (Book 2)  J. K. Rowling   \n",
       "\n",
       "    num-ratings  avg-ratings  \\\n",
       "0           428     5.852804   \n",
       "3           387     5.824289   \n",
       "5           278     5.737410   \n",
       "9           347     5.501441   \n",
       "13          556     5.183453   \n",
       "\n",
       "                                          Image-URL-M  \n",
       "0   http://images.amazon.com/images/P/0439136350.0...  \n",
       "3   http://images.amazon.com/images/P/0439139597.0...  \n",
       "5   http://images.amazon.com/images/P/0590353403.0...  \n",
       "9   http://images.amazon.com/images/P/043935806X.0...  \n",
       "13  http://images.amazon.com/images/P/0439064872.0...  "
      ]
     },
     "execution_count": 420,
     "metadata": {},
     "output_type": "execute_result"
    }
   ],
   "source": [
    "popular_df.head()"
   ]
  },
  {
   "cell_type": "markdown",
   "id": "cba9a3d6",
   "metadata": {},
   "source": [
    "# Collaborative filtering based recommender system:"
   ]
  },
  {
   "cell_type": "code",
   "execution_count": 421,
   "id": "2cb8d976",
   "metadata": {},
   "outputs": [],
   "source": [
    "x=ratings_with_name.groupby(\"User-ID\").count()['Book-Rating']>200\n",
    "padhe_likhe_users=x[x].index"
   ]
  },
  {
   "cell_type": "code",
   "execution_count": 422,
   "id": "f5f76702",
   "metadata": {},
   "outputs": [],
   "source": [
    "filtered_rating=ratings_with_name[ratings_with_name[\"User-ID\"].isin(padhe_likhe_users)]"
   ]
  },
  {
   "cell_type": "code",
   "execution_count": 423,
   "id": "f000ccf8",
   "metadata": {},
   "outputs": [
    {
     "data": {
      "text/html": [
       "<div>\n",
       "<style scoped>\n",
       "    .dataframe tbody tr th:only-of-type {\n",
       "        vertical-align: middle;\n",
       "    }\n",
       "\n",
       "    .dataframe tbody tr th {\n",
       "        vertical-align: top;\n",
       "    }\n",
       "\n",
       "    .dataframe thead th {\n",
       "        text-align: right;\n",
       "    }\n",
       "</style>\n",
       "<table border=\"1\" class=\"dataframe\">\n",
       "  <thead>\n",
       "    <tr style=\"text-align: right;\">\n",
       "      <th></th>\n",
       "      <th>User-ID</th>\n",
       "      <th>ISBN</th>\n",
       "      <th>Book-Rating</th>\n",
       "      <th>Book-Title</th>\n",
       "      <th>Book-Author</th>\n",
       "      <th>Year-Of-Publication</th>\n",
       "      <th>Publisher</th>\n",
       "      <th>Image-URL-S</th>\n",
       "      <th>Image-URL-M</th>\n",
       "      <th>Image-URL-L</th>\n",
       "    </tr>\n",
       "  </thead>\n",
       "  <tbody>\n",
       "    <tr>\n",
       "      <th>2</th>\n",
       "      <td>6543</td>\n",
       "      <td>034545104X</td>\n",
       "      <td>0</td>\n",
       "      <td>Flesh Tones: A Novel</td>\n",
       "      <td>M. J. Rose</td>\n",
       "      <td>2002</td>\n",
       "      <td>Ballantine Books</td>\n",
       "      <td>http://images.amazon.com/images/P/034545104X.0...</td>\n",
       "      <td>http://images.amazon.com/images/P/034545104X.0...</td>\n",
       "      <td>http://images.amazon.com/images/P/034545104X.0...</td>\n",
       "    </tr>\n",
       "    <tr>\n",
       "      <th>5</th>\n",
       "      <td>23768</td>\n",
       "      <td>034545104X</td>\n",
       "      <td>0</td>\n",
       "      <td>Flesh Tones: A Novel</td>\n",
       "      <td>M. J. Rose</td>\n",
       "      <td>2002</td>\n",
       "      <td>Ballantine Books</td>\n",
       "      <td>http://images.amazon.com/images/P/034545104X.0...</td>\n",
       "      <td>http://images.amazon.com/images/P/034545104X.0...</td>\n",
       "      <td>http://images.amazon.com/images/P/034545104X.0...</td>\n",
       "    </tr>\n",
       "    <tr>\n",
       "      <th>7</th>\n",
       "      <td>28523</td>\n",
       "      <td>034545104X</td>\n",
       "      <td>0</td>\n",
       "      <td>Flesh Tones: A Novel</td>\n",
       "      <td>M. J. Rose</td>\n",
       "      <td>2002</td>\n",
       "      <td>Ballantine Books</td>\n",
       "      <td>http://images.amazon.com/images/P/034545104X.0...</td>\n",
       "      <td>http://images.amazon.com/images/P/034545104X.0...</td>\n",
       "      <td>http://images.amazon.com/images/P/034545104X.0...</td>\n",
       "    </tr>\n",
       "    <tr>\n",
       "      <th>15</th>\n",
       "      <td>77940</td>\n",
       "      <td>034545104X</td>\n",
       "      <td>0</td>\n",
       "      <td>Flesh Tones: A Novel</td>\n",
       "      <td>M. J. Rose</td>\n",
       "      <td>2002</td>\n",
       "      <td>Ballantine Books</td>\n",
       "      <td>http://images.amazon.com/images/P/034545104X.0...</td>\n",
       "      <td>http://images.amazon.com/images/P/034545104X.0...</td>\n",
       "      <td>http://images.amazon.com/images/P/034545104X.0...</td>\n",
       "    </tr>\n",
       "    <tr>\n",
       "      <th>16</th>\n",
       "      <td>81977</td>\n",
       "      <td>034545104X</td>\n",
       "      <td>0</td>\n",
       "      <td>Flesh Tones: A Novel</td>\n",
       "      <td>M. J. Rose</td>\n",
       "      <td>2002</td>\n",
       "      <td>Ballantine Books</td>\n",
       "      <td>http://images.amazon.com/images/P/034545104X.0...</td>\n",
       "      <td>http://images.amazon.com/images/P/034545104X.0...</td>\n",
       "      <td>http://images.amazon.com/images/P/034545104X.0...</td>\n",
       "    </tr>\n",
       "    <tr>\n",
       "      <th>...</th>\n",
       "      <td>...</td>\n",
       "      <td>...</td>\n",
       "      <td>...</td>\n",
       "      <td>...</td>\n",
       "      <td>...</td>\n",
       "      <td>...</td>\n",
       "      <td>...</td>\n",
       "      <td>...</td>\n",
       "      <td>...</td>\n",
       "      <td>...</td>\n",
       "    </tr>\n",
       "    <tr>\n",
       "      <th>1016875</th>\n",
       "      <td>275970</td>\n",
       "      <td>1880837927</td>\n",
       "      <td>0</td>\n",
       "      <td>The Theology of the Hammer</td>\n",
       "      <td>Millard Fuller</td>\n",
       "      <td>1994</td>\n",
       "      <td>Smyth &amp;amp; Helwys Publishing</td>\n",
       "      <td>http://images.amazon.com/images/P/1880837927.0...</td>\n",
       "      <td>http://images.amazon.com/images/P/1880837927.0...</td>\n",
       "      <td>http://images.amazon.com/images/P/1880837927.0...</td>\n",
       "    </tr>\n",
       "    <tr>\n",
       "      <th>1016876</th>\n",
       "      <td>275970</td>\n",
       "      <td>188717897X</td>\n",
       "      <td>0</td>\n",
       "      <td>The Ordeal of Integration: Progress and Resent...</td>\n",
       "      <td>Orlando Patterson</td>\n",
       "      <td>1998</td>\n",
       "      <td>Civitas Book Publisher</td>\n",
       "      <td>http://images.amazon.com/images/P/188717897X.0...</td>\n",
       "      <td>http://images.amazon.com/images/P/188717897X.0...</td>\n",
       "      <td>http://images.amazon.com/images/P/188717897X.0...</td>\n",
       "    </tr>\n",
       "    <tr>\n",
       "      <th>1016877</th>\n",
       "      <td>275970</td>\n",
       "      <td>1888889047</td>\n",
       "      <td>0</td>\n",
       "      <td>Pushcart's Complete Rotten Reviews &amp;amp; Rejec...</td>\n",
       "      <td>Bill Henderson</td>\n",
       "      <td>1998</td>\n",
       "      <td>Pushcart Press</td>\n",
       "      <td>http://images.amazon.com/images/P/1888889047.0...</td>\n",
       "      <td>http://images.amazon.com/images/P/1888889047.0...</td>\n",
       "      <td>http://images.amazon.com/images/P/1888889047.0...</td>\n",
       "    </tr>\n",
       "    <tr>\n",
       "      <th>1016878</th>\n",
       "      <td>275970</td>\n",
       "      <td>1931868123</td>\n",
       "      <td>0</td>\n",
       "      <td>There's a Porcupine in My Outhouse: Misadventu...</td>\n",
       "      <td>Mike Tougias</td>\n",
       "      <td>2002</td>\n",
       "      <td>Capital Books (VA)</td>\n",
       "      <td>http://images.amazon.com/images/P/1931868123.0...</td>\n",
       "      <td>http://images.amazon.com/images/P/1931868123.0...</td>\n",
       "      <td>http://images.amazon.com/images/P/1931868123.0...</td>\n",
       "    </tr>\n",
       "    <tr>\n",
       "      <th>1016879</th>\n",
       "      <td>275970</td>\n",
       "      <td>3411086211</td>\n",
       "      <td>10</td>\n",
       "      <td>Die Biene.</td>\n",
       "      <td>Sybil GrÃ?Â¤fin SchÃ?Â¶nfeldt</td>\n",
       "      <td>1993</td>\n",
       "      <td>Bibliographisches Institut, Mannheim</td>\n",
       "      <td>http://images.amazon.com/images/P/3411086211.0...</td>\n",
       "      <td>http://images.amazon.com/images/P/3411086211.0...</td>\n",
       "      <td>http://images.amazon.com/images/P/3411086211.0...</td>\n",
       "    </tr>\n",
       "  </tbody>\n",
       "</table>\n",
       "<p>467543 rows × 10 columns</p>\n",
       "</div>"
      ],
      "text/plain": [
       "         User-ID        ISBN  Book-Rating  \\\n",
       "2           6543  034545104X            0   \n",
       "5          23768  034545104X            0   \n",
       "7          28523  034545104X            0   \n",
       "15         77940  034545104X            0   \n",
       "16         81977  034545104X            0   \n",
       "...          ...         ...          ...   \n",
       "1016875   275970  1880837927            0   \n",
       "1016876   275970  188717897X            0   \n",
       "1016877   275970  1888889047            0   \n",
       "1016878   275970  1931868123            0   \n",
       "1016879   275970  3411086211           10   \n",
       "\n",
       "                                                Book-Title  \\\n",
       "2                                     Flesh Tones: A Novel   \n",
       "5                                     Flesh Tones: A Novel   \n",
       "7                                     Flesh Tones: A Novel   \n",
       "15                                    Flesh Tones: A Novel   \n",
       "16                                    Flesh Tones: A Novel   \n",
       "...                                                    ...   \n",
       "1016875                         The Theology of the Hammer   \n",
       "1016876  The Ordeal of Integration: Progress and Resent...   \n",
       "1016877  Pushcart's Complete Rotten Reviews &amp; Rejec...   \n",
       "1016878  There's a Porcupine in My Outhouse: Misadventu...   \n",
       "1016879                                         Die Biene.   \n",
       "\n",
       "                           Book-Author  Year-Of-Publication  \\\n",
       "2                           M. J. Rose                 2002   \n",
       "5                           M. J. Rose                 2002   \n",
       "7                           M. J. Rose                 2002   \n",
       "15                          M. J. Rose                 2002   \n",
       "16                          M. J. Rose                 2002   \n",
       "...                                ...                  ...   \n",
       "1016875                 Millard Fuller                 1994   \n",
       "1016876              Orlando Patterson                 1998   \n",
       "1016877                 Bill Henderson                 1998   \n",
       "1016878                   Mike Tougias                 2002   \n",
       "1016879  Sybil GrÃ?Â¤fin SchÃ?Â¶nfeldt                 1993   \n",
       "\n",
       "                                    Publisher  \\\n",
       "2                            Ballantine Books   \n",
       "5                            Ballantine Books   \n",
       "7                            Ballantine Books   \n",
       "15                           Ballantine Books   \n",
       "16                           Ballantine Books   \n",
       "...                                       ...   \n",
       "1016875         Smyth &amp; Helwys Publishing   \n",
       "1016876                Civitas Book Publisher   \n",
       "1016877                        Pushcart Press   \n",
       "1016878                    Capital Books (VA)   \n",
       "1016879  Bibliographisches Institut, Mannheim   \n",
       "\n",
       "                                               Image-URL-S  \\\n",
       "2        http://images.amazon.com/images/P/034545104X.0...   \n",
       "5        http://images.amazon.com/images/P/034545104X.0...   \n",
       "7        http://images.amazon.com/images/P/034545104X.0...   \n",
       "15       http://images.amazon.com/images/P/034545104X.0...   \n",
       "16       http://images.amazon.com/images/P/034545104X.0...   \n",
       "...                                                    ...   \n",
       "1016875  http://images.amazon.com/images/P/1880837927.0...   \n",
       "1016876  http://images.amazon.com/images/P/188717897X.0...   \n",
       "1016877  http://images.amazon.com/images/P/1888889047.0...   \n",
       "1016878  http://images.amazon.com/images/P/1931868123.0...   \n",
       "1016879  http://images.amazon.com/images/P/3411086211.0...   \n",
       "\n",
       "                                               Image-URL-M  \\\n",
       "2        http://images.amazon.com/images/P/034545104X.0...   \n",
       "5        http://images.amazon.com/images/P/034545104X.0...   \n",
       "7        http://images.amazon.com/images/P/034545104X.0...   \n",
       "15       http://images.amazon.com/images/P/034545104X.0...   \n",
       "16       http://images.amazon.com/images/P/034545104X.0...   \n",
       "...                                                    ...   \n",
       "1016875  http://images.amazon.com/images/P/1880837927.0...   \n",
       "1016876  http://images.amazon.com/images/P/188717897X.0...   \n",
       "1016877  http://images.amazon.com/images/P/1888889047.0...   \n",
       "1016878  http://images.amazon.com/images/P/1931868123.0...   \n",
       "1016879  http://images.amazon.com/images/P/3411086211.0...   \n",
       "\n",
       "                                               Image-URL-L  \n",
       "2        http://images.amazon.com/images/P/034545104X.0...  \n",
       "5        http://images.amazon.com/images/P/034545104X.0...  \n",
       "7        http://images.amazon.com/images/P/034545104X.0...  \n",
       "15       http://images.amazon.com/images/P/034545104X.0...  \n",
       "16       http://images.amazon.com/images/P/034545104X.0...  \n",
       "...                                                    ...  \n",
       "1016875  http://images.amazon.com/images/P/1880837927.0...  \n",
       "1016876  http://images.amazon.com/images/P/188717897X.0...  \n",
       "1016877  http://images.amazon.com/images/P/1888889047.0...  \n",
       "1016878  http://images.amazon.com/images/P/1931868123.0...  \n",
       "1016879  http://images.amazon.com/images/P/3411086211.0...  \n",
       "\n",
       "[467543 rows x 10 columns]"
      ]
     },
     "execution_count": 423,
     "metadata": {},
     "output_type": "execute_result"
    }
   ],
   "source": [
    "filtered_rating"
   ]
  },
  {
   "cell_type": "code",
   "execution_count": 424,
   "id": "44811e10",
   "metadata": {},
   "outputs": [],
   "source": [
    "y=filtered_rating.groupby(\"Book-Title\").count()[\"Book-Rating\"]>=50\n",
    "famous_book=y[y].index"
   ]
  },
  {
   "cell_type": "code",
   "execution_count": 425,
   "id": "f31086e4",
   "metadata": {},
   "outputs": [],
   "source": [
    "final_ratings=filtered_rating[filtered_rating[\"Book-Title\"].isin(famous_book)]"
   ]
  },
  {
   "cell_type": "code",
   "execution_count": 426,
   "id": "7349792c",
   "metadata": {},
   "outputs": [
    {
     "data": {
      "text/html": [
       "<div>\n",
       "<style scoped>\n",
       "    .dataframe tbody tr th:only-of-type {\n",
       "        vertical-align: middle;\n",
       "    }\n",
       "\n",
       "    .dataframe tbody tr th {\n",
       "        vertical-align: top;\n",
       "    }\n",
       "\n",
       "    .dataframe thead th {\n",
       "        text-align: right;\n",
       "    }\n",
       "</style>\n",
       "<table border=\"1\" class=\"dataframe\">\n",
       "  <thead>\n",
       "    <tr style=\"text-align: right;\">\n",
       "      <th></th>\n",
       "      <th>User-ID</th>\n",
       "      <th>ISBN</th>\n",
       "      <th>Book-Rating</th>\n",
       "      <th>Book-Title</th>\n",
       "      <th>Book-Author</th>\n",
       "      <th>Year-Of-Publication</th>\n",
       "      <th>Publisher</th>\n",
       "      <th>Image-URL-S</th>\n",
       "      <th>Image-URL-M</th>\n",
       "      <th>Image-URL-L</th>\n",
       "    </tr>\n",
       "  </thead>\n",
       "  <tbody>\n",
       "    <tr>\n",
       "      <th>63</th>\n",
       "      <td>278418</td>\n",
       "      <td>0446520802</td>\n",
       "      <td>0</td>\n",
       "      <td>The Notebook</td>\n",
       "      <td>Nicholas Sparks</td>\n",
       "      <td>1996</td>\n",
       "      <td>Warner Books</td>\n",
       "      <td>http://images.amazon.com/images/P/0446520802.0...</td>\n",
       "      <td>http://images.amazon.com/images/P/0446520802.0...</td>\n",
       "      <td>http://images.amazon.com/images/P/0446520802.0...</td>\n",
       "    </tr>\n",
       "    <tr>\n",
       "      <th>65</th>\n",
       "      <td>3363</td>\n",
       "      <td>0446520802</td>\n",
       "      <td>0</td>\n",
       "      <td>The Notebook</td>\n",
       "      <td>Nicholas Sparks</td>\n",
       "      <td>1996</td>\n",
       "      <td>Warner Books</td>\n",
       "      <td>http://images.amazon.com/images/P/0446520802.0...</td>\n",
       "      <td>http://images.amazon.com/images/P/0446520802.0...</td>\n",
       "      <td>http://images.amazon.com/images/P/0446520802.0...</td>\n",
       "    </tr>\n",
       "    <tr>\n",
       "      <th>66</th>\n",
       "      <td>7158</td>\n",
       "      <td>0446520802</td>\n",
       "      <td>10</td>\n",
       "      <td>The Notebook</td>\n",
       "      <td>Nicholas Sparks</td>\n",
       "      <td>1996</td>\n",
       "      <td>Warner Books</td>\n",
       "      <td>http://images.amazon.com/images/P/0446520802.0...</td>\n",
       "      <td>http://images.amazon.com/images/P/0446520802.0...</td>\n",
       "      <td>http://images.amazon.com/images/P/0446520802.0...</td>\n",
       "    </tr>\n",
       "    <tr>\n",
       "      <th>69</th>\n",
       "      <td>11676</td>\n",
       "      <td>0446520802</td>\n",
       "      <td>10</td>\n",
       "      <td>The Notebook</td>\n",
       "      <td>Nicholas Sparks</td>\n",
       "      <td>1996</td>\n",
       "      <td>Warner Books</td>\n",
       "      <td>http://images.amazon.com/images/P/0446520802.0...</td>\n",
       "      <td>http://images.amazon.com/images/P/0446520802.0...</td>\n",
       "      <td>http://images.amazon.com/images/P/0446520802.0...</td>\n",
       "    </tr>\n",
       "    <tr>\n",
       "      <th>74</th>\n",
       "      <td>23768</td>\n",
       "      <td>0446520802</td>\n",
       "      <td>6</td>\n",
       "      <td>The Notebook</td>\n",
       "      <td>Nicholas Sparks</td>\n",
       "      <td>1996</td>\n",
       "      <td>Warner Books</td>\n",
       "      <td>http://images.amazon.com/images/P/0446520802.0...</td>\n",
       "      <td>http://images.amazon.com/images/P/0446520802.0...</td>\n",
       "      <td>http://images.amazon.com/images/P/0446520802.0...</td>\n",
       "    </tr>\n",
       "    <tr>\n",
       "      <th>...</th>\n",
       "      <td>...</td>\n",
       "      <td>...</td>\n",
       "      <td>...</td>\n",
       "      <td>...</td>\n",
       "      <td>...</td>\n",
       "      <td>...</td>\n",
       "      <td>...</td>\n",
       "      <td>...</td>\n",
       "      <td>...</td>\n",
       "      <td>...</td>\n",
       "    </tr>\n",
       "    <tr>\n",
       "      <th>1012782</th>\n",
       "      <td>266865</td>\n",
       "      <td>0531001725</td>\n",
       "      <td>10</td>\n",
       "      <td>The Catcher in the Rye</td>\n",
       "      <td>Jerome David Salinger</td>\n",
       "      <td>1973</td>\n",
       "      <td>Scholastic Library Pub</td>\n",
       "      <td>http://images.amazon.com/images/P/0531001725.0...</td>\n",
       "      <td>http://images.amazon.com/images/P/0531001725.0...</td>\n",
       "      <td>http://images.amazon.com/images/P/0531001725.0...</td>\n",
       "    </tr>\n",
       "    <tr>\n",
       "      <th>1013957</th>\n",
       "      <td>269566</td>\n",
       "      <td>0670809381</td>\n",
       "      <td>0</td>\n",
       "      <td>Echoes</td>\n",
       "      <td>Maeve Binchy</td>\n",
       "      <td>1986</td>\n",
       "      <td>Penguin USA</td>\n",
       "      <td>http://images.amazon.com/images/P/0670809381.0...</td>\n",
       "      <td>http://images.amazon.com/images/P/0670809381.0...</td>\n",
       "      <td>http://images.amazon.com/images/P/0670809381.0...</td>\n",
       "    </tr>\n",
       "    <tr>\n",
       "      <th>1014801</th>\n",
       "      <td>271284</td>\n",
       "      <td>0440910927</td>\n",
       "      <td>0</td>\n",
       "      <td>The Rainmaker</td>\n",
       "      <td>John Grisham</td>\n",
       "      <td>1995</td>\n",
       "      <td>Island</td>\n",
       "      <td>http://images.amazon.com/images/P/0440910927.0...</td>\n",
       "      <td>http://images.amazon.com/images/P/0440910927.0...</td>\n",
       "      <td>http://images.amazon.com/images/P/0440910927.0...</td>\n",
       "    </tr>\n",
       "    <tr>\n",
       "      <th>1015090</th>\n",
       "      <td>271705</td>\n",
       "      <td>B0001PIOX4</td>\n",
       "      <td>0</td>\n",
       "      <td>Fahrenheit 451</td>\n",
       "      <td>Ray Bradbury</td>\n",
       "      <td>1993</td>\n",
       "      <td>Simon &amp;amp; Schuster</td>\n",
       "      <td>http://images.amazon.com/images/P/B0001PIOX4.0...</td>\n",
       "      <td>http://images.amazon.com/images/P/B0001PIOX4.0...</td>\n",
       "      <td>http://images.amazon.com/images/P/B0001PIOX4.0...</td>\n",
       "    </tr>\n",
       "    <tr>\n",
       "      <th>1016860</th>\n",
       "      <td>275970</td>\n",
       "      <td>1586210661</td>\n",
       "      <td>9</td>\n",
       "      <td>Me Talk Pretty One Day</td>\n",
       "      <td>David Sedaris</td>\n",
       "      <td>2001</td>\n",
       "      <td>Time Warner Audio Major</td>\n",
       "      <td>http://images.amazon.com/images/P/1586210661.0...</td>\n",
       "      <td>http://images.amazon.com/images/P/1586210661.0...</td>\n",
       "      <td>http://images.amazon.com/images/P/1586210661.0...</td>\n",
       "    </tr>\n",
       "  </tbody>\n",
       "</table>\n",
       "<p>57835 rows × 10 columns</p>\n",
       "</div>"
      ],
      "text/plain": [
       "         User-ID        ISBN  Book-Rating              Book-Title  \\\n",
       "63        278418  0446520802            0            The Notebook   \n",
       "65          3363  0446520802            0            The Notebook   \n",
       "66          7158  0446520802           10            The Notebook   \n",
       "69         11676  0446520802           10            The Notebook   \n",
       "74         23768  0446520802            6            The Notebook   \n",
       "...          ...         ...          ...                     ...   \n",
       "1012782   266865  0531001725           10  The Catcher in the Rye   \n",
       "1013957   269566  0670809381            0                  Echoes   \n",
       "1014801   271284  0440910927            0           The Rainmaker   \n",
       "1015090   271705  B0001PIOX4            0          Fahrenheit 451   \n",
       "1016860   275970  1586210661            9  Me Talk Pretty One Day   \n",
       "\n",
       "                   Book-Author  Year-Of-Publication                Publisher  \\\n",
       "63             Nicholas Sparks                 1996             Warner Books   \n",
       "65             Nicholas Sparks                 1996             Warner Books   \n",
       "66             Nicholas Sparks                 1996             Warner Books   \n",
       "69             Nicholas Sparks                 1996             Warner Books   \n",
       "74             Nicholas Sparks                 1996             Warner Books   \n",
       "...                        ...                  ...                      ...   \n",
       "1012782  Jerome David Salinger                 1973   Scholastic Library Pub   \n",
       "1013957           Maeve Binchy                 1986              Penguin USA   \n",
       "1014801           John Grisham                 1995                   Island   \n",
       "1015090           Ray Bradbury                 1993     Simon &amp; Schuster   \n",
       "1016860          David Sedaris                 2001  Time Warner Audio Major   \n",
       "\n",
       "                                               Image-URL-S  \\\n",
       "63       http://images.amazon.com/images/P/0446520802.0...   \n",
       "65       http://images.amazon.com/images/P/0446520802.0...   \n",
       "66       http://images.amazon.com/images/P/0446520802.0...   \n",
       "69       http://images.amazon.com/images/P/0446520802.0...   \n",
       "74       http://images.amazon.com/images/P/0446520802.0...   \n",
       "...                                                    ...   \n",
       "1012782  http://images.amazon.com/images/P/0531001725.0...   \n",
       "1013957  http://images.amazon.com/images/P/0670809381.0...   \n",
       "1014801  http://images.amazon.com/images/P/0440910927.0...   \n",
       "1015090  http://images.amazon.com/images/P/B0001PIOX4.0...   \n",
       "1016860  http://images.amazon.com/images/P/1586210661.0...   \n",
       "\n",
       "                                               Image-URL-M  \\\n",
       "63       http://images.amazon.com/images/P/0446520802.0...   \n",
       "65       http://images.amazon.com/images/P/0446520802.0...   \n",
       "66       http://images.amazon.com/images/P/0446520802.0...   \n",
       "69       http://images.amazon.com/images/P/0446520802.0...   \n",
       "74       http://images.amazon.com/images/P/0446520802.0...   \n",
       "...                                                    ...   \n",
       "1012782  http://images.amazon.com/images/P/0531001725.0...   \n",
       "1013957  http://images.amazon.com/images/P/0670809381.0...   \n",
       "1014801  http://images.amazon.com/images/P/0440910927.0...   \n",
       "1015090  http://images.amazon.com/images/P/B0001PIOX4.0...   \n",
       "1016860  http://images.amazon.com/images/P/1586210661.0...   \n",
       "\n",
       "                                               Image-URL-L  \n",
       "63       http://images.amazon.com/images/P/0446520802.0...  \n",
       "65       http://images.amazon.com/images/P/0446520802.0...  \n",
       "66       http://images.amazon.com/images/P/0446520802.0...  \n",
       "69       http://images.amazon.com/images/P/0446520802.0...  \n",
       "74       http://images.amazon.com/images/P/0446520802.0...  \n",
       "...                                                    ...  \n",
       "1012782  http://images.amazon.com/images/P/0531001725.0...  \n",
       "1013957  http://images.amazon.com/images/P/0670809381.0...  \n",
       "1014801  http://images.amazon.com/images/P/0440910927.0...  \n",
       "1015090  http://images.amazon.com/images/P/B0001PIOX4.0...  \n",
       "1016860  http://images.amazon.com/images/P/1586210661.0...  \n",
       "\n",
       "[57835 rows x 10 columns]"
      ]
     },
     "execution_count": 426,
     "metadata": {},
     "output_type": "execute_result"
    }
   ],
   "source": [
    "final_ratings"
   ]
  },
  {
   "cell_type": "code",
   "execution_count": 427,
   "id": "cdaebb09",
   "metadata": {},
   "outputs": [],
   "source": [
    "pt=final_ratings.pivot_table(index='Book-Title',columns='User-ID',values='Book-Rating')"
   ]
  },
  {
   "cell_type": "code",
   "execution_count": 428,
   "id": "fffaef81",
   "metadata": {},
   "outputs": [],
   "source": [
    "pt.fillna(0,inplace=True)"
   ]
  },
  {
   "cell_type": "code",
   "execution_count": 429,
   "id": "28e0b14f",
   "metadata": {},
   "outputs": [],
   "source": [
    "from sklearn.metrics.pairwise import cosine_similarity"
   ]
  },
  {
   "cell_type": "code",
   "execution_count": 430,
   "id": "9f829928",
   "metadata": {},
   "outputs": [],
   "source": [
    "similarity_score=cosine_similarity(pt)"
   ]
  },
  {
   "cell_type": "code",
   "execution_count": 431,
   "id": "f16794eb",
   "metadata": {},
   "outputs": [
    {
     "data": {
      "text/plain": [
       "(698, 698)"
      ]
     },
     "execution_count": 431,
     "metadata": {},
     "output_type": "execute_result"
    }
   ],
   "source": [
    "similarity_score.shape"
   ]
  },
  {
   "cell_type": "code",
   "execution_count": 434,
   "id": "dac6a7ac",
   "metadata": {},
   "outputs": [],
   "source": [
    "def recommend(book_name):\n",
    "    index=np.where(pt.index==book_name)[0][0]\n",
    "    similar_items = sorted(list(enumerate(similarity_score[index])),key=lambda x:x[1],reverse=True)[1:5]\n",
    "    \n",
    "    for i in similar_items:\n",
    "        print(pt.index[i[0]])"
   ]
  },
  {
   "cell_type": "code",
   "execution_count": 436,
   "id": "f8436aad",
   "metadata": {},
   "outputs": [
    {
     "name": "stdout",
     "output_type": "stream",
     "text": [
      "Nights in Rodanthe\n",
      "The Mulberry Tree\n",
      "A Walk to Remember\n",
      "River's End\n"
     ]
    }
   ],
   "source": [
    "recommend(\"Message in a Bottle\")"
   ]
  },
  {
   "cell_type": "markdown",
   "id": "048ca0b1",
   "metadata": {},
   "source": [
    "# "
   ]
  },
  {
   "cell_type": "code",
   "execution_count": 453,
   "id": "75c4cf2c",
   "metadata": {},
   "outputs": [],
   "source": [
    "from scipy.sparse import csr_matrix\n",
    "book_sparse=csr_matrix(pt)"
   ]
  },
  {
   "cell_type": "code",
   "execution_count": 440,
   "id": "20619c56",
   "metadata": {},
   "outputs": [],
   "source": [
    "from sklearn.neighbors import NearestNeighbors\n",
    "model=NearestNeighbors(algorithm='brute')"
   ]
  },
  {
   "cell_type": "code",
   "execution_count": 442,
   "id": "09929ac7",
   "metadata": {},
   "outputs": [
    {
     "data": {
      "text/plain": [
       "NearestNeighbors(algorithm='brute')"
      ]
     },
     "execution_count": 442,
     "metadata": {},
     "output_type": "execute_result"
    }
   ],
   "source": [
    "model.fit(book_sparse)"
   ]
  },
  {
   "cell_type": "code",
   "execution_count": 447,
   "id": "9210afa9",
   "metadata": {},
   "outputs": [],
   "source": [
    "distances , suggestions=model.kneighbors(pt.iloc[237,:].values.reshape(1,-1),n_neighbors=6)"
   ]
  },
  {
   "cell_type": "code",
   "execution_count": 449,
   "id": "d89594b2",
   "metadata": {},
   "outputs": [
    {
     "data": {
      "text/plain": [
       "array([[237, 172, 352, 234, 139,   7]], dtype=int64)"
      ]
     },
     "execution_count": 449,
     "metadata": {},
     "output_type": "execute_result"
    }
   ],
   "source": [
    "suggestions"
   ]
  },
  {
   "cell_type": "code",
   "execution_count": 451,
   "id": "da45809b",
   "metadata": {},
   "outputs": [
    {
     "name": "stdout",
     "output_type": "stream",
     "text": [
      "Index(['Here on Earth', 'Exclusive', 'No Safe Place', 'Hearts in Atlantis',\n",
      "       'Deck the Halls (Holiday Classics)', 'A Civil Action'],\n",
      "      dtype='object', name='Book-Title')\n"
     ]
    }
   ],
   "source": [
    "for i in range(len(suggestions)):\n",
    "    print(pt.index[suggestions[i]])"
   ]
  },
  {
   "cell_type": "code",
   "execution_count": null,
   "id": "ea301bb0",
   "metadata": {},
   "outputs": [],
   "source": []
  }
 ],
 "metadata": {
  "kernelspec": {
   "display_name": "Python 3",
   "language": "python",
   "name": "python3"
  },
  "language_info": {
   "codemirror_mode": {
    "name": "ipython",
    "version": 3
   },
   "file_extension": ".py",
   "mimetype": "text/x-python",
   "name": "python",
   "nbconvert_exporter": "python",
   "pygments_lexer": "ipython3",
   "version": "3.8.8"
  }
 },
 "nbformat": 4,
 "nbformat_minor": 5
}
